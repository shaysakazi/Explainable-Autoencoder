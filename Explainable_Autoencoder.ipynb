{
  "nbformat": 4,
  "nbformat_minor": 0,
  "metadata": {
    "colab": {
      "name": "Explainable-Autoencoder.ipynb",
      "provenance": [],
      "collapsed_sections": [],
      "machine_shape": "hm",
      "authorship_tag": "ABX9TyPT7boIzwtNJISN10PcFtlU",
      "include_colab_link": true
    },
    "kernelspec": {
      "name": "python3",
      "display_name": "Python 3"
    },
    "language_info": {
      "name": "python"
    },
    "accelerator": "GPU"
  },
  "cells": [
    {
      "cell_type": "markdown",
      "metadata": {
        "id": "view-in-github",
        "colab_type": "text"
      },
      "source": [
        "<a href=\"https://colab.research.google.com/github/shaysakazi/Explainable-Autoencoder/blob/main/Explainable_Autoencoder.ipynb\" target=\"_parent\"><img src=\"https://colab.research.google.com/assets/colab-badge.svg\" alt=\"Open In Colab\"/></a>"
      ]
    },
    {
      "cell_type": "markdown",
      "metadata": {
        "id": "-lbxu6kv9TN6"
      },
      "source": [
        "# Kaggle setting"
      ]
    },
    {
      "cell_type": "code",
      "metadata": {
        "id": "5JkcCCg48JAy"
      },
      "source": [
        "!mkdir /root/.kaggle/"
      ],
      "execution_count": 1,
      "outputs": []
    },
    {
      "cell_type": "code",
      "metadata": {
        "colab": {
          "base_uri": "https://localhost:8080/"
        },
        "id": "3mk5Yh8U9J2f",
        "outputId": "b7c29772-13c2-442f-ed95-562e04f9b628"
      },
      "source": [
        "import json\n",
        "import os\n",
        "\n",
        "# Installing the Kaggle package\n",
        "!pip install kaggle \n",
        "\n",
        "#Important Note: complete this with your own key - after running this for the first time remmember to **remove** your API_KEY\n",
        "api_token = {\"username\":\"\",\"key\":\"\"}\n",
        "\n",
        "# creating kaggle.json file with the personal API-Key details \n",
        "# You can also put this file on your Google Drive\n",
        "with open('/root/.kaggle/kaggle.json', 'w') as file:\n",
        "  json.dump(api_token, file)\n",
        "!chmod 600 /root/.kaggle/kaggle.json"
      ],
      "execution_count": 2,
      "outputs": [
        {
          "output_type": "stream",
          "text": [
            "Requirement already satisfied: kaggle in /usr/local/lib/python3.7/dist-packages (1.5.12)\n",
            "Requirement already satisfied: python-slugify in /usr/local/lib/python3.7/dist-packages (from kaggle) (4.0.1)\n",
            "Requirement already satisfied: requests in /usr/local/lib/python3.7/dist-packages (from kaggle) (2.23.0)\n",
            "Requirement already satisfied: certifi in /usr/local/lib/python3.7/dist-packages (from kaggle) (2020.12.5)\n",
            "Requirement already satisfied: six>=1.10 in /usr/local/lib/python3.7/dist-packages (from kaggle) (1.15.0)\n",
            "Requirement already satisfied: urllib3 in /usr/local/lib/python3.7/dist-packages (from kaggle) (1.24.3)\n",
            "Requirement already satisfied: python-dateutil in /usr/local/lib/python3.7/dist-packages (from kaggle) (2.8.1)\n",
            "Requirement already satisfied: tqdm in /usr/local/lib/python3.7/dist-packages (from kaggle) (4.41.1)\n",
            "Requirement already satisfied: text-unidecode>=1.3 in /usr/local/lib/python3.7/dist-packages (from python-slugify->kaggle) (1.3)\n",
            "Requirement already satisfied: idna<3,>=2.5 in /usr/local/lib/python3.7/dist-packages (from requests->kaggle) (2.10)\n",
            "Requirement already satisfied: chardet<4,>=3.0.2 in /usr/local/lib/python3.7/dist-packages (from requests->kaggle) (3.0.4)\n"
          ],
          "name": "stdout"
        }
      ]
    },
    {
      "cell_type": "code",
      "metadata": {
        "colab": {
          "base_uri": "https://localhost:8080/"
        },
        "id": "inct_xwQ9RT7",
        "outputId": "92f2ce2e-035d-4901-b7ae-8d74c9941d10"
      },
      "source": [
        "# Creating a dataset directory\n",
        "!mkdir ./datasets/creditcardfraud\n",
        "\n",
        "# download the dataset from Kaggle and unzip it\n",
        "!kaggle datasets download mlg-ulb/creditcardfraud -p ./datasets/creditcardfraud/\n",
        "!unzip ./datasets/creditcardfraud/creditcardfraud.zip -d ./datasets/creditcardfraud/\n",
        "!rm -r ./datasets/creditcardfraud/creditcardfraud.zip"
      ],
      "execution_count": 3,
      "outputs": [
        {
          "output_type": "stream",
          "text": [
            "mkdir: cannot create directory ‘./datasets/creditcardfraud’: No such file or directory\n",
            "Downloading creditcardfraud.zip to ./datasets/creditcardfraud\n",
            " 89% 59.0M/66.0M [00:00<00:00, 46.1MB/s]\n",
            "100% 66.0M/66.0M [00:00<00:00, 84.8MB/s]\n",
            "Archive:  ./datasets/creditcardfraud/creditcardfraud.zip\n",
            "  inflating: ./datasets/creditcardfraud/creditcard.csv  \n"
          ],
          "name": "stdout"
        }
      ]
    },
    {
      "cell_type": "markdown",
      "metadata": {
        "id": "_8aHV2uA-t1w"
      },
      "source": [
        "# Imports"
      ]
    },
    {
      "cell_type": "code",
      "metadata": {
        "id": "JrqJoW5v93AG"
      },
      "source": [
        "import pandas as pd\n",
        "import numpy as np\n",
        "import seaborn as sns\n",
        "import keras\n",
        "from sklearn.preprocessing import MinMaxScaler\n",
        "from sklearn.model_selection import train_test_split\n",
        "from keras import Sequential\n",
        "from keras import backend as K\n",
        "from keras.layers import Dense\n",
        "import matplotlib.pyplot as plt\n",
        "from sklearn.metrics import roc_auc_score, roc_curve, confusion_matrix\n",
        "from collections import defaultdict"
      ],
      "execution_count": 4,
      "outputs": []
    },
    {
      "cell_type": "markdown",
      "metadata": {
        "id": "EPdnFc2pR5oi"
      },
      "source": [
        "# Loading the dataset"
      ]
    },
    {
      "cell_type": "code",
      "metadata": {
        "id": "m7Xz02TV-x8A"
      },
      "source": [
        "credit_fraud_df = pd.read_csv('./datasets/creditcardfraud/creditcard.csv')"
      ],
      "execution_count": 5,
      "outputs": []
    },
    {
      "cell_type": "code",
      "metadata": {
        "id": "hPL-7dHH_Bao",
        "colab": {
          "base_uri": "https://localhost:8080/",
          "height": 226
        },
        "outputId": "84a33c34-9b85-4a8d-9dc0-5baa733320fd"
      },
      "source": [
        "credit_fraud_df.head()"
      ],
      "execution_count": 6,
      "outputs": [
        {
          "output_type": "execute_result",
          "data": {
            "text/html": [
              "<div>\n",
              "<style scoped>\n",
              "    .dataframe tbody tr th:only-of-type {\n",
              "        vertical-align: middle;\n",
              "    }\n",
              "\n",
              "    .dataframe tbody tr th {\n",
              "        vertical-align: top;\n",
              "    }\n",
              "\n",
              "    .dataframe thead th {\n",
              "        text-align: right;\n",
              "    }\n",
              "</style>\n",
              "<table border=\"1\" class=\"dataframe\">\n",
              "  <thead>\n",
              "    <tr style=\"text-align: right;\">\n",
              "      <th></th>\n",
              "      <th>Time</th>\n",
              "      <th>V1</th>\n",
              "      <th>V2</th>\n",
              "      <th>V3</th>\n",
              "      <th>V4</th>\n",
              "      <th>V5</th>\n",
              "      <th>V6</th>\n",
              "      <th>V7</th>\n",
              "      <th>V8</th>\n",
              "      <th>V9</th>\n",
              "      <th>V10</th>\n",
              "      <th>V11</th>\n",
              "      <th>V12</th>\n",
              "      <th>V13</th>\n",
              "      <th>V14</th>\n",
              "      <th>V15</th>\n",
              "      <th>V16</th>\n",
              "      <th>V17</th>\n",
              "      <th>V18</th>\n",
              "      <th>V19</th>\n",
              "      <th>V20</th>\n",
              "      <th>V21</th>\n",
              "      <th>V22</th>\n",
              "      <th>V23</th>\n",
              "      <th>V24</th>\n",
              "      <th>V25</th>\n",
              "      <th>V26</th>\n",
              "      <th>V27</th>\n",
              "      <th>V28</th>\n",
              "      <th>Amount</th>\n",
              "      <th>Class</th>\n",
              "    </tr>\n",
              "  </thead>\n",
              "  <tbody>\n",
              "    <tr>\n",
              "      <th>0</th>\n",
              "      <td>0.0</td>\n",
              "      <td>-1.359807</td>\n",
              "      <td>-0.072781</td>\n",
              "      <td>2.536347</td>\n",
              "      <td>1.378155</td>\n",
              "      <td>-0.338321</td>\n",
              "      <td>0.462388</td>\n",
              "      <td>0.239599</td>\n",
              "      <td>0.098698</td>\n",
              "      <td>0.363787</td>\n",
              "      <td>0.090794</td>\n",
              "      <td>-0.551600</td>\n",
              "      <td>-0.617801</td>\n",
              "      <td>-0.991390</td>\n",
              "      <td>-0.311169</td>\n",
              "      <td>1.468177</td>\n",
              "      <td>-0.470401</td>\n",
              "      <td>0.207971</td>\n",
              "      <td>0.025791</td>\n",
              "      <td>0.403993</td>\n",
              "      <td>0.251412</td>\n",
              "      <td>-0.018307</td>\n",
              "      <td>0.277838</td>\n",
              "      <td>-0.110474</td>\n",
              "      <td>0.066928</td>\n",
              "      <td>0.128539</td>\n",
              "      <td>-0.189115</td>\n",
              "      <td>0.133558</td>\n",
              "      <td>-0.021053</td>\n",
              "      <td>149.62</td>\n",
              "      <td>0</td>\n",
              "    </tr>\n",
              "    <tr>\n",
              "      <th>1</th>\n",
              "      <td>0.0</td>\n",
              "      <td>1.191857</td>\n",
              "      <td>0.266151</td>\n",
              "      <td>0.166480</td>\n",
              "      <td>0.448154</td>\n",
              "      <td>0.060018</td>\n",
              "      <td>-0.082361</td>\n",
              "      <td>-0.078803</td>\n",
              "      <td>0.085102</td>\n",
              "      <td>-0.255425</td>\n",
              "      <td>-0.166974</td>\n",
              "      <td>1.612727</td>\n",
              "      <td>1.065235</td>\n",
              "      <td>0.489095</td>\n",
              "      <td>-0.143772</td>\n",
              "      <td>0.635558</td>\n",
              "      <td>0.463917</td>\n",
              "      <td>-0.114805</td>\n",
              "      <td>-0.183361</td>\n",
              "      <td>-0.145783</td>\n",
              "      <td>-0.069083</td>\n",
              "      <td>-0.225775</td>\n",
              "      <td>-0.638672</td>\n",
              "      <td>0.101288</td>\n",
              "      <td>-0.339846</td>\n",
              "      <td>0.167170</td>\n",
              "      <td>0.125895</td>\n",
              "      <td>-0.008983</td>\n",
              "      <td>0.014724</td>\n",
              "      <td>2.69</td>\n",
              "      <td>0</td>\n",
              "    </tr>\n",
              "    <tr>\n",
              "      <th>2</th>\n",
              "      <td>1.0</td>\n",
              "      <td>-1.358354</td>\n",
              "      <td>-1.340163</td>\n",
              "      <td>1.773209</td>\n",
              "      <td>0.379780</td>\n",
              "      <td>-0.503198</td>\n",
              "      <td>1.800499</td>\n",
              "      <td>0.791461</td>\n",
              "      <td>0.247676</td>\n",
              "      <td>-1.514654</td>\n",
              "      <td>0.207643</td>\n",
              "      <td>0.624501</td>\n",
              "      <td>0.066084</td>\n",
              "      <td>0.717293</td>\n",
              "      <td>-0.165946</td>\n",
              "      <td>2.345865</td>\n",
              "      <td>-2.890083</td>\n",
              "      <td>1.109969</td>\n",
              "      <td>-0.121359</td>\n",
              "      <td>-2.261857</td>\n",
              "      <td>0.524980</td>\n",
              "      <td>0.247998</td>\n",
              "      <td>0.771679</td>\n",
              "      <td>0.909412</td>\n",
              "      <td>-0.689281</td>\n",
              "      <td>-0.327642</td>\n",
              "      <td>-0.139097</td>\n",
              "      <td>-0.055353</td>\n",
              "      <td>-0.059752</td>\n",
              "      <td>378.66</td>\n",
              "      <td>0</td>\n",
              "    </tr>\n",
              "    <tr>\n",
              "      <th>3</th>\n",
              "      <td>1.0</td>\n",
              "      <td>-0.966272</td>\n",
              "      <td>-0.185226</td>\n",
              "      <td>1.792993</td>\n",
              "      <td>-0.863291</td>\n",
              "      <td>-0.010309</td>\n",
              "      <td>1.247203</td>\n",
              "      <td>0.237609</td>\n",
              "      <td>0.377436</td>\n",
              "      <td>-1.387024</td>\n",
              "      <td>-0.054952</td>\n",
              "      <td>-0.226487</td>\n",
              "      <td>0.178228</td>\n",
              "      <td>0.507757</td>\n",
              "      <td>-0.287924</td>\n",
              "      <td>-0.631418</td>\n",
              "      <td>-1.059647</td>\n",
              "      <td>-0.684093</td>\n",
              "      <td>1.965775</td>\n",
              "      <td>-1.232622</td>\n",
              "      <td>-0.208038</td>\n",
              "      <td>-0.108300</td>\n",
              "      <td>0.005274</td>\n",
              "      <td>-0.190321</td>\n",
              "      <td>-1.175575</td>\n",
              "      <td>0.647376</td>\n",
              "      <td>-0.221929</td>\n",
              "      <td>0.062723</td>\n",
              "      <td>0.061458</td>\n",
              "      <td>123.50</td>\n",
              "      <td>0</td>\n",
              "    </tr>\n",
              "    <tr>\n",
              "      <th>4</th>\n",
              "      <td>2.0</td>\n",
              "      <td>-1.158233</td>\n",
              "      <td>0.877737</td>\n",
              "      <td>1.548718</td>\n",
              "      <td>0.403034</td>\n",
              "      <td>-0.407193</td>\n",
              "      <td>0.095921</td>\n",
              "      <td>0.592941</td>\n",
              "      <td>-0.270533</td>\n",
              "      <td>0.817739</td>\n",
              "      <td>0.753074</td>\n",
              "      <td>-0.822843</td>\n",
              "      <td>0.538196</td>\n",
              "      <td>1.345852</td>\n",
              "      <td>-1.119670</td>\n",
              "      <td>0.175121</td>\n",
              "      <td>-0.451449</td>\n",
              "      <td>-0.237033</td>\n",
              "      <td>-0.038195</td>\n",
              "      <td>0.803487</td>\n",
              "      <td>0.408542</td>\n",
              "      <td>-0.009431</td>\n",
              "      <td>0.798278</td>\n",
              "      <td>-0.137458</td>\n",
              "      <td>0.141267</td>\n",
              "      <td>-0.206010</td>\n",
              "      <td>0.502292</td>\n",
              "      <td>0.219422</td>\n",
              "      <td>0.215153</td>\n",
              "      <td>69.99</td>\n",
              "      <td>0</td>\n",
              "    </tr>\n",
              "  </tbody>\n",
              "</table>\n",
              "</div>"
            ],
            "text/plain": [
              "   Time        V1        V2        V3  ...       V27       V28  Amount  Class\n",
              "0   0.0 -1.359807 -0.072781  2.536347  ...  0.133558 -0.021053  149.62      0\n",
              "1   0.0  1.191857  0.266151  0.166480  ... -0.008983  0.014724    2.69      0\n",
              "2   1.0 -1.358354 -1.340163  1.773209  ... -0.055353 -0.059752  378.66      0\n",
              "3   1.0 -0.966272 -0.185226  1.792993  ...  0.062723  0.061458  123.50      0\n",
              "4   2.0 -1.158233  0.877737  1.548718  ...  0.219422  0.215153   69.99      0\n",
              "\n",
              "[5 rows x 31 columns]"
            ]
          },
          "metadata": {
            "tags": []
          },
          "execution_count": 6
        }
      ]
    },
    {
      "cell_type": "markdown",
      "metadata": {
        "id": "G3NL5pYNR9EK"
      },
      "source": [
        "# Preprocessing"
      ]
    },
    {
      "cell_type": "code",
      "metadata": {
        "id": "4EuLORj6_CZQ",
        "colab": {
          "base_uri": "https://localhost:8080/",
          "height": 226
        },
        "outputId": "0098f94f-1bbb-4abd-ef40-4de3cd9bb27d"
      },
      "source": [
        "credit_fraud_df[credit_fraud_df.columns] = MinMaxScaler().fit_transform(credit_fraud_df)\n",
        "credit_fraud_df.head()"
      ],
      "execution_count": 7,
      "outputs": [
        {
          "output_type": "execute_result",
          "data": {
            "text/html": [
              "<div>\n",
              "<style scoped>\n",
              "    .dataframe tbody tr th:only-of-type {\n",
              "        vertical-align: middle;\n",
              "    }\n",
              "\n",
              "    .dataframe tbody tr th {\n",
              "        vertical-align: top;\n",
              "    }\n",
              "\n",
              "    .dataframe thead th {\n",
              "        text-align: right;\n",
              "    }\n",
              "</style>\n",
              "<table border=\"1\" class=\"dataframe\">\n",
              "  <thead>\n",
              "    <tr style=\"text-align: right;\">\n",
              "      <th></th>\n",
              "      <th>Time</th>\n",
              "      <th>V1</th>\n",
              "      <th>V2</th>\n",
              "      <th>V3</th>\n",
              "      <th>V4</th>\n",
              "      <th>V5</th>\n",
              "      <th>V6</th>\n",
              "      <th>V7</th>\n",
              "      <th>V8</th>\n",
              "      <th>V9</th>\n",
              "      <th>V10</th>\n",
              "      <th>V11</th>\n",
              "      <th>V12</th>\n",
              "      <th>V13</th>\n",
              "      <th>V14</th>\n",
              "      <th>V15</th>\n",
              "      <th>V16</th>\n",
              "      <th>V17</th>\n",
              "      <th>V18</th>\n",
              "      <th>V19</th>\n",
              "      <th>V20</th>\n",
              "      <th>V21</th>\n",
              "      <th>V22</th>\n",
              "      <th>V23</th>\n",
              "      <th>V24</th>\n",
              "      <th>V25</th>\n",
              "      <th>V26</th>\n",
              "      <th>V27</th>\n",
              "      <th>V28</th>\n",
              "      <th>Amount</th>\n",
              "      <th>Class</th>\n",
              "    </tr>\n",
              "  </thead>\n",
              "  <tbody>\n",
              "    <tr>\n",
              "      <th>0</th>\n",
              "      <td>0.000000</td>\n",
              "      <td>0.935192</td>\n",
              "      <td>0.766490</td>\n",
              "      <td>0.881365</td>\n",
              "      <td>0.313023</td>\n",
              "      <td>0.763439</td>\n",
              "      <td>0.267669</td>\n",
              "      <td>0.266815</td>\n",
              "      <td>0.786444</td>\n",
              "      <td>0.475312</td>\n",
              "      <td>0.510600</td>\n",
              "      <td>0.252484</td>\n",
              "      <td>0.680908</td>\n",
              "      <td>0.371591</td>\n",
              "      <td>0.635591</td>\n",
              "      <td>0.446084</td>\n",
              "      <td>0.434392</td>\n",
              "      <td>0.737173</td>\n",
              "      <td>0.655066</td>\n",
              "      <td>0.594863</td>\n",
              "      <td>0.582942</td>\n",
              "      <td>0.561184</td>\n",
              "      <td>0.522992</td>\n",
              "      <td>0.663793</td>\n",
              "      <td>0.391253</td>\n",
              "      <td>0.585122</td>\n",
              "      <td>0.394557</td>\n",
              "      <td>0.418976</td>\n",
              "      <td>0.312697</td>\n",
              "      <td>0.005824</td>\n",
              "      <td>0.0</td>\n",
              "    </tr>\n",
              "    <tr>\n",
              "      <th>1</th>\n",
              "      <td>0.000000</td>\n",
              "      <td>0.978542</td>\n",
              "      <td>0.770067</td>\n",
              "      <td>0.840298</td>\n",
              "      <td>0.271796</td>\n",
              "      <td>0.766120</td>\n",
              "      <td>0.262192</td>\n",
              "      <td>0.264875</td>\n",
              "      <td>0.786298</td>\n",
              "      <td>0.453981</td>\n",
              "      <td>0.505267</td>\n",
              "      <td>0.381188</td>\n",
              "      <td>0.744342</td>\n",
              "      <td>0.486190</td>\n",
              "      <td>0.641219</td>\n",
              "      <td>0.383840</td>\n",
              "      <td>0.464105</td>\n",
              "      <td>0.727794</td>\n",
              "      <td>0.640681</td>\n",
              "      <td>0.551930</td>\n",
              "      <td>0.579530</td>\n",
              "      <td>0.557840</td>\n",
              "      <td>0.480237</td>\n",
              "      <td>0.666938</td>\n",
              "      <td>0.336440</td>\n",
              "      <td>0.587290</td>\n",
              "      <td>0.446013</td>\n",
              "      <td>0.416345</td>\n",
              "      <td>0.313423</td>\n",
              "      <td>0.000105</td>\n",
              "      <td>0.0</td>\n",
              "    </tr>\n",
              "    <tr>\n",
              "      <th>2</th>\n",
              "      <td>0.000006</td>\n",
              "      <td>0.935217</td>\n",
              "      <td>0.753118</td>\n",
              "      <td>0.868141</td>\n",
              "      <td>0.268766</td>\n",
              "      <td>0.762329</td>\n",
              "      <td>0.281122</td>\n",
              "      <td>0.270177</td>\n",
              "      <td>0.788042</td>\n",
              "      <td>0.410603</td>\n",
              "      <td>0.513018</td>\n",
              "      <td>0.322422</td>\n",
              "      <td>0.706683</td>\n",
              "      <td>0.503854</td>\n",
              "      <td>0.640473</td>\n",
              "      <td>0.511697</td>\n",
              "      <td>0.357443</td>\n",
              "      <td>0.763381</td>\n",
              "      <td>0.644945</td>\n",
              "      <td>0.386683</td>\n",
              "      <td>0.585855</td>\n",
              "      <td>0.565477</td>\n",
              "      <td>0.546030</td>\n",
              "      <td>0.678939</td>\n",
              "      <td>0.289354</td>\n",
              "      <td>0.559515</td>\n",
              "      <td>0.402727</td>\n",
              "      <td>0.415489</td>\n",
              "      <td>0.311911</td>\n",
              "      <td>0.014739</td>\n",
              "      <td>0.0</td>\n",
              "    </tr>\n",
              "    <tr>\n",
              "      <th>3</th>\n",
              "      <td>0.000006</td>\n",
              "      <td>0.941878</td>\n",
              "      <td>0.765304</td>\n",
              "      <td>0.868484</td>\n",
              "      <td>0.213661</td>\n",
              "      <td>0.765647</td>\n",
              "      <td>0.275559</td>\n",
              "      <td>0.266803</td>\n",
              "      <td>0.789434</td>\n",
              "      <td>0.414999</td>\n",
              "      <td>0.507585</td>\n",
              "      <td>0.271817</td>\n",
              "      <td>0.710910</td>\n",
              "      <td>0.487635</td>\n",
              "      <td>0.636372</td>\n",
              "      <td>0.289124</td>\n",
              "      <td>0.415653</td>\n",
              "      <td>0.711253</td>\n",
              "      <td>0.788492</td>\n",
              "      <td>0.467058</td>\n",
              "      <td>0.578050</td>\n",
              "      <td>0.559734</td>\n",
              "      <td>0.510277</td>\n",
              "      <td>0.662607</td>\n",
              "      <td>0.223826</td>\n",
              "      <td>0.614245</td>\n",
              "      <td>0.389197</td>\n",
              "      <td>0.417669</td>\n",
              "      <td>0.314371</td>\n",
              "      <td>0.004807</td>\n",
              "      <td>0.0</td>\n",
              "    </tr>\n",
              "    <tr>\n",
              "      <th>4</th>\n",
              "      <td>0.000012</td>\n",
              "      <td>0.938617</td>\n",
              "      <td>0.776520</td>\n",
              "      <td>0.864251</td>\n",
              "      <td>0.269796</td>\n",
              "      <td>0.762975</td>\n",
              "      <td>0.263984</td>\n",
              "      <td>0.268968</td>\n",
              "      <td>0.782484</td>\n",
              "      <td>0.490950</td>\n",
              "      <td>0.524303</td>\n",
              "      <td>0.236355</td>\n",
              "      <td>0.724477</td>\n",
              "      <td>0.552509</td>\n",
              "      <td>0.608406</td>\n",
              "      <td>0.349419</td>\n",
              "      <td>0.434995</td>\n",
              "      <td>0.724243</td>\n",
              "      <td>0.650665</td>\n",
              "      <td>0.626060</td>\n",
              "      <td>0.584615</td>\n",
              "      <td>0.561327</td>\n",
              "      <td>0.547271</td>\n",
              "      <td>0.663392</td>\n",
              "      <td>0.401270</td>\n",
              "      <td>0.566343</td>\n",
              "      <td>0.507497</td>\n",
              "      <td>0.420561</td>\n",
              "      <td>0.317490</td>\n",
              "      <td>0.002724</td>\n",
              "      <td>0.0</td>\n",
              "    </tr>\n",
              "  </tbody>\n",
              "</table>\n",
              "</div>"
            ],
            "text/plain": [
              "       Time        V1        V2        V3  ...       V27       V28    Amount  Class\n",
              "0  0.000000  0.935192  0.766490  0.881365  ...  0.418976  0.312697  0.005824    0.0\n",
              "1  0.000000  0.978542  0.770067  0.840298  ...  0.416345  0.313423  0.000105    0.0\n",
              "2  0.000006  0.935217  0.753118  0.868141  ...  0.415489  0.311911  0.014739    0.0\n",
              "3  0.000006  0.941878  0.765304  0.868484  ...  0.417669  0.314371  0.004807    0.0\n",
              "4  0.000012  0.938617  0.776520  0.864251  ...  0.420561  0.317490  0.002724    0.0\n",
              "\n",
              "[5 rows x 31 columns]"
            ]
          },
          "metadata": {
            "tags": []
          },
          "execution_count": 7
        }
      ]
    },
    {
      "cell_type": "code",
      "metadata": {
        "id": "cnkrbVSyMVFE"
      },
      "source": [
        "train, test = train_test_split(credit_fraud_df, test_size=0.2, stratify=credit_fraud_df['Class'])\n",
        "train, val = train_test_split(train, test_size=0.25, stratify=train['Class'])\n",
        "\n",
        "X_train, y_train = train.iloc[:,:-1], train.iloc[:,-1]\n",
        "X_val, y_val = val.iloc[:,:-1], val.iloc[:,-1]\n",
        "X_test, y_test = test.iloc[:,:-1], test.iloc[:,-1]"
      ],
      "execution_count": 8,
      "outputs": []
    },
    {
      "cell_type": "code",
      "metadata": {
        "colab": {
          "base_uri": "https://localhost:8080/"
        },
        "id": "8BM0nqftPoc1",
        "outputId": "1d5a7c15-6a0b-4b34-87aa-7ba9588ed704"
      },
      "source": [
        "print(X_train.shape)\n",
        "print(X_val.shape)\n",
        "print(X_test.shape)"
      ],
      "execution_count": 9,
      "outputs": [
        {
          "output_type": "stream",
          "text": [
            "(170883, 30)\n",
            "(56962, 30)\n",
            "(56962, 30)\n"
          ],
          "name": "stdout"
        }
      ]
    },
    {
      "cell_type": "code",
      "metadata": {
        "colab": {
          "base_uri": "https://localhost:8080/"
        },
        "id": "hrd8gjr0PcLf",
        "outputId": "b3c91a67-24fb-466d-a1ea-fcd7fd048169"
      },
      "source": [
        "print(y_train.value_counts())\n",
        "print(y_val.value_counts())\n",
        "print(y_test.value_counts())"
      ],
      "execution_count": 10,
      "outputs": [
        {
          "output_type": "stream",
          "text": [
            "0.0    170588\n",
            "1.0       295\n",
            "Name: Class, dtype: int64\n",
            "0.0    56863\n",
            "1.0       99\n",
            "Name: Class, dtype: int64\n",
            "0.0    56864\n",
            "1.0       98\n",
            "Name: Class, dtype: int64\n"
          ],
          "name": "stdout"
        }
      ]
    },
    {
      "cell_type": "markdown",
      "metadata": {
        "id": "cQD-E6DSR_bH"
      },
      "source": [
        "# Training an autoencoder"
      ]
    },
    {
      "cell_type": "code",
      "metadata": {
        "id": "AqEJ-BavP1f4"
      },
      "source": [
        "def rmse(y_true, y_pred):\n",
        "  return K.sqrt(K.mean(K.square(y_pred-y_true)))"
      ],
      "execution_count": 11,
      "outputs": []
    },
    {
      "cell_type": "code",
      "metadata": {
        "colab": {
          "base_uri": "https://localhost:8080/"
        },
        "id": "GVhWR6v-NPG7",
        "outputId": "85cf02af-f399-4612-d691-8fadfd5c521a"
      },
      "source": [
        "autoencoder = Sequential()\n",
        "autoencoder.add(Dense(16, activation='relu', input_shape=(X_train.shape[1],)))\n",
        "autoencoder.add(Dense(8, activation='sigmoid', name='latent'))\n",
        "autoencoder.add(Dense(16, activation='relu'))\n",
        "autoencoder.add(Dense(X_train.shape[1], activation='sigmoid'))\n",
        "autoencoder.compile(loss=rmse, optimizer='adadelta')\n",
        "autoencoder.summary()"
      ],
      "execution_count": 12,
      "outputs": [
        {
          "output_type": "stream",
          "text": [
            "Model: \"sequential\"\n",
            "_________________________________________________________________\n",
            "Layer (type)                 Output Shape              Param #   \n",
            "=================================================================\n",
            "dense (Dense)                (None, 16)                496       \n",
            "_________________________________________________________________\n",
            "latent (Dense)               (None, 8)                 136       \n",
            "_________________________________________________________________\n",
            "dense_1 (Dense)              (None, 16)                144       \n",
            "_________________________________________________________________\n",
            "dense_2 (Dense)              (None, 30)                510       \n",
            "=================================================================\n",
            "Total params: 1,286\n",
            "Trainable params: 1,286\n",
            "Non-trainable params: 0\n",
            "_________________________________________________________________\n"
          ],
          "name": "stdout"
        }
      ]
    },
    {
      "cell_type": "code",
      "metadata": {
        "id": "4jpu9PydRdc7"
      },
      "source": [
        "callbacks_list = [keras.callbacks.ModelCheckpoint('best_model.hdf5' , monitor='val_loss' , verbose=1 , mode='min', save_best_only=True),\n",
        "                  keras.callbacks.EarlyStopping(monitor='val_loss', patience=5, restore_best_weights=True)]"
      ],
      "execution_count": 13,
      "outputs": []
    },
    {
      "cell_type": "code",
      "metadata": {
        "colab": {
          "base_uri": "https://localhost:8080/"
        },
        "id": "ju86bNBmPBjW",
        "outputId": "a3d2d387-b44f-4208-83c8-351b8a456c0a"
      },
      "source": [
        "history = autoencoder.fit(X_train, X_train, validation_data=(X_val, X_val), epochs=10, verbose=1, callbacks=callbacks_list)"
      ],
      "execution_count": 14,
      "outputs": [
        {
          "output_type": "stream",
          "text": [
            "Epoch 1/10\n",
            "5341/5341 [==============================] - 15s 3ms/step - loss: 0.2291 - val_loss: 0.2164\n",
            "\n",
            "Epoch 00001: val_loss improved from inf to 0.21636, saving model to best_model.hdf5\n",
            "Epoch 2/10\n",
            "5341/5341 [==============================] - 13s 2ms/step - loss: 0.2121 - val_loss: 0.1997\n",
            "\n",
            "Epoch 00002: val_loss improved from 0.21636 to 0.19974, saving model to best_model.hdf5\n",
            "Epoch 3/10\n",
            "5341/5341 [==============================] - 13s 2ms/step - loss: 0.1954 - val_loss: 0.1813\n",
            "\n",
            "Epoch 00003: val_loss improved from 0.19974 to 0.18133, saving model to best_model.hdf5\n",
            "Epoch 4/10\n",
            "5341/5341 [==============================] - 13s 2ms/step - loss: 0.1759 - val_loss: 0.1576\n",
            "\n",
            "Epoch 00004: val_loss improved from 0.18133 to 0.15755, saving model to best_model.hdf5\n",
            "Epoch 5/10\n",
            "5341/5341 [==============================] - 13s 2ms/step - loss: 0.1505 - val_loss: 0.1278\n",
            "\n",
            "Epoch 00005: val_loss improved from 0.15755 to 0.12778, saving model to best_model.hdf5\n",
            "Epoch 6/10\n",
            "5341/5341 [==============================] - 13s 2ms/step - loss: 0.1200 - val_loss: 0.0982\n",
            "\n",
            "Epoch 00006: val_loss improved from 0.12778 to 0.09822, saving model to best_model.hdf5\n",
            "Epoch 7/10\n",
            "5341/5341 [==============================] - 13s 2ms/step - loss: 0.0925 - val_loss: 0.0794\n",
            "\n",
            "Epoch 00007: val_loss improved from 0.09822 to 0.07937, saving model to best_model.hdf5\n",
            "Epoch 8/10\n",
            "5341/5341 [==============================] - 13s 2ms/step - loss: 0.0769 - val_loss: 0.0714\n",
            "\n",
            "Epoch 00008: val_loss improved from 0.07937 to 0.07141, saving model to best_model.hdf5\n",
            "Epoch 9/10\n",
            "5341/5341 [==============================] - 13s 2ms/step - loss: 0.0704 - val_loss: 0.0682\n",
            "\n",
            "Epoch 00009: val_loss improved from 0.07141 to 0.06822, saving model to best_model.hdf5\n",
            "Epoch 10/10\n",
            "5341/5341 [==============================] - 13s 2ms/step - loss: 0.0678 - val_loss: 0.0668\n",
            "\n",
            "Epoch 00010: val_loss improved from 0.06822 to 0.06676, saving model to best_model.hdf5\n"
          ],
          "name": "stdout"
        }
      ]
    },
    {
      "cell_type": "code",
      "metadata": {
        "colab": {
          "base_uri": "https://localhost:8080/",
          "height": 265
        },
        "id": "oxX8qQTPN-ZD",
        "outputId": "ca71018f-64fe-412f-8199-993bd3e7428b"
      },
      "source": [
        "# plot training history\n",
        "plt.plot(history.history['loss'], label='train')\n",
        "plt.plot(history.history['val_loss'], label='val')\n",
        "plt.legend()\n",
        "plt.show()"
      ],
      "execution_count": 15,
      "outputs": [
        {
          "output_type": "display_data",
          "data": {
            "image/png": "[encoded data removed]",
            "text/plain": [
              "<Figure size 432x288 with 1 Axes>"
            ]
          },
          "metadata": {
            "tags": [],
            "needs_background": "light"
          }
        }
      ]
    },
    {
      "cell_type": "markdown",
      "metadata": {
        "id": "4yh8FuMrSFEq"
      },
      "source": [
        "# Predict outliers"
      ]
    },
    {
      "cell_type": "code",
      "metadata": {
        "colab": {
          "base_uri": "https://localhost:8080/",
          "height": 363
        },
        "id": "5hZZ9ZnHRHaz",
        "outputId": "7b0ab746-4092-411e-e51e-e061cac1a9df"
      },
      "source": [
        "X_train_pred = autoencoder.predict(X_train)\n",
        "autoencoder_total_rmse = np.mean(np.sqrt(np.square(X_train-X_train_pred)), axis=1)\n",
        "train_error_df = pd.DataFrame({'event_index': X_train.index, 'reconstruction_error': autoencoder_total_rmse, 'true_label': y_train.astype(int)})\n",
        "threshold = np.percentile(autoencoder_total_rmse, 99.99)\n",
        "train_error_df['outlier'] = train_error_df['reconstruction_error'].apply(lambda x: 1 if x>threshold else 0)\n",
        "train_error_df = train_error_df.sort_values('reconstruction_error', ascending=False).reset_index(drop=True)\n",
        "train_error_df.head(10)"
      ],
      "execution_count": 16,
      "outputs": [
        {
          "output_type": "execute_result",
          "data": {
            "text/html": [
              "<div>\n",
              "<style scoped>\n",
              "    .dataframe tbody tr th:only-of-type {\n",
              "        vertical-align: middle;\n",
              "    }\n",
              "\n",
              "    .dataframe tbody tr th {\n",
              "        vertical-align: top;\n",
              "    }\n",
              "\n",
              "    .dataframe thead th {\n",
              "        text-align: right;\n",
              "    }\n",
              "</style>\n",
              "<table border=\"1\" class=\"dataframe\">\n",
              "  <thead>\n",
              "    <tr style=\"text-align: right;\">\n",
              "      <th></th>\n",
              "      <th>event_index</th>\n",
              "      <th>reconstruction_error</th>\n",
              "      <th>true_label</th>\n",
              "      <th>outlier</th>\n",
              "    </tr>\n",
              "  </thead>\n",
              "  <tbody>\n",
              "    <tr>\n",
              "      <th>0</th>\n",
              "      <td>274771</td>\n",
              "      <td>0.451317</td>\n",
              "      <td>0</td>\n",
              "      <td>1</td>\n",
              "    </tr>\n",
              "    <tr>\n",
              "      <th>1</th>\n",
              "      <td>151296</td>\n",
              "      <td>0.250901</td>\n",
              "      <td>0</td>\n",
              "      <td>1</td>\n",
              "    </tr>\n",
              "    <tr>\n",
              "      <th>2</th>\n",
              "      <td>39769</td>\n",
              "      <td>0.233302</td>\n",
              "      <td>0</td>\n",
              "      <td>1</td>\n",
              "    </tr>\n",
              "    <tr>\n",
              "      <th>3</th>\n",
              "      <td>154684</td>\n",
              "      <td>0.225215</td>\n",
              "      <td>1</td>\n",
              "      <td>1</td>\n",
              "    </tr>\n",
              "    <tr>\n",
              "      <th>4</th>\n",
              "      <td>220212</td>\n",
              "      <td>0.215504</td>\n",
              "      <td>0</td>\n",
              "      <td>1</td>\n",
              "    </tr>\n",
              "    <tr>\n",
              "      <th>5</th>\n",
              "      <td>154371</td>\n",
              "      <td>0.211124</td>\n",
              "      <td>1</td>\n",
              "      <td>1</td>\n",
              "    </tr>\n",
              "    <tr>\n",
              "      <th>6</th>\n",
              "      <td>10690</td>\n",
              "      <td>0.188667</td>\n",
              "      <td>1</td>\n",
              "      <td>1</td>\n",
              "    </tr>\n",
              "    <tr>\n",
              "      <th>7</th>\n",
              "      <td>8296</td>\n",
              "      <td>0.184069</td>\n",
              "      <td>1</td>\n",
              "      <td>1</td>\n",
              "    </tr>\n",
              "    <tr>\n",
              "      <th>8</th>\n",
              "      <td>151007</td>\n",
              "      <td>0.182178</td>\n",
              "      <td>1</td>\n",
              "      <td>1</td>\n",
              "    </tr>\n",
              "    <tr>\n",
              "      <th>9</th>\n",
              "      <td>151008</td>\n",
              "      <td>0.182178</td>\n",
              "      <td>1</td>\n",
              "      <td>1</td>\n",
              "    </tr>\n",
              "  </tbody>\n",
              "</table>\n",
              "</div>"
            ],
            "text/plain": [
              "   event_index  reconstruction_error  true_label  outlier\n",
              "0       274771              0.451317           0        1\n",
              "1       151296              0.250901           0        1\n",
              "2        39769              0.233302           0        1\n",
              "3       154684              0.225215           1        1\n",
              "4       220212              0.215504           0        1\n",
              "5       154371              0.211124           1        1\n",
              "6        10690              0.188667           1        1\n",
              "7         8296              0.184069           1        1\n",
              "8       151007              0.182178           1        1\n",
              "9       151008              0.182178           1        1"
            ]
          },
          "metadata": {
            "tags": []
          },
          "execution_count": 16
        }
      ]
    },
    {
      "cell_type": "code",
      "metadata": {
        "colab": {
          "base_uri": "https://localhost:8080/",
          "height": 423
        },
        "id": "bNfdRLdFSvg0",
        "outputId": "773a3fc3-e628-4c4a-b8e8-1bd89e3ae90d"
      },
      "source": [
        "train_error_df[train_error_df['true_label']==1].tail(200)"
      ],
      "execution_count": 80,
      "outputs": [
        {
          "output_type": "execute_result",
          "data": {
            "text/html": [
              "<div>\n",
              "<style scoped>\n",
              "    .dataframe tbody tr th:only-of-type {\n",
              "        vertical-align: middle;\n",
              "    }\n",
              "\n",
              "    .dataframe tbody tr th {\n",
              "        vertical-align: top;\n",
              "    }\n",
              "\n",
              "    .dataframe thead th {\n",
              "        text-align: right;\n",
              "    }\n",
              "</style>\n",
              "<table border=\"1\" class=\"dataframe\">\n",
              "  <thead>\n",
              "    <tr style=\"text-align: right;\">\n",
              "      <th></th>\n",
              "      <th>event_index</th>\n",
              "      <th>reconstruction_error</th>\n",
              "      <th>true_label</th>\n",
              "      <th>outlier</th>\n",
              "    </tr>\n",
              "  </thead>\n",
              "  <tbody>\n",
              "    <tr>\n",
              "      <th>214</th>\n",
              "      <td>6774</td>\n",
              "      <td>0.099364</td>\n",
              "      <td>1</td>\n",
              "      <td>0</td>\n",
              "    </tr>\n",
              "    <tr>\n",
              "      <th>221</th>\n",
              "      <td>263274</td>\n",
              "      <td>0.098711</td>\n",
              "      <td>1</td>\n",
              "      <td>0</td>\n",
              "    </tr>\n",
              "    <tr>\n",
              "      <th>226</th>\n",
              "      <td>42009</td>\n",
              "      <td>0.097799</td>\n",
              "      <td>1</td>\n",
              "      <td>0</td>\n",
              "    </tr>\n",
              "    <tr>\n",
              "      <th>231</th>\n",
              "      <td>250761</td>\n",
              "      <td>0.097278</td>\n",
              "      <td>1</td>\n",
              "      <td>0</td>\n",
              "    </tr>\n",
              "    <tr>\n",
              "      <th>235</th>\n",
              "      <td>251477</td>\n",
              "      <td>0.096500</td>\n",
              "      <td>1</td>\n",
              "      <td>0</td>\n",
              "    </tr>\n",
              "    <tr>\n",
              "      <th>...</th>\n",
              "      <td>...</td>\n",
              "      <td>...</td>\n",
              "      <td>...</td>\n",
              "      <td>...</td>\n",
              "    </tr>\n",
              "    <tr>\n",
              "      <th>124513</th>\n",
              "      <td>192687</td>\n",
              "      <td>0.031334</td>\n",
              "      <td>1</td>\n",
              "      <td>0</td>\n",
              "    </tr>\n",
              "    <tr>\n",
              "      <th>125808</th>\n",
              "      <td>219025</td>\n",
              "      <td>0.031190</td>\n",
              "      <td>1</td>\n",
              "      <td>0</td>\n",
              "    </tr>\n",
              "    <tr>\n",
              "      <th>129570</th>\n",
              "      <td>204079</td>\n",
              "      <td>0.030769</td>\n",
              "      <td>1</td>\n",
              "      <td>0</td>\n",
              "    </tr>\n",
              "    <tr>\n",
              "      <th>152266</th>\n",
              "      <td>72757</td>\n",
              "      <td>0.027513</td>\n",
              "      <td>1</td>\n",
              "      <td>0</td>\n",
              "    </tr>\n",
              "    <tr>\n",
              "      <th>162805</th>\n",
              "      <td>118308</td>\n",
              "      <td>0.024908</td>\n",
              "      <td>1</td>\n",
              "      <td>0</td>\n",
              "    </tr>\n",
              "  </tbody>\n",
              "</table>\n",
              "<p>200 rows × 4 columns</p>\n",
              "</div>"
            ],
            "text/plain": [
              "        event_index  reconstruction_error  true_label  outlier\n",
              "214            6774              0.099364           1        0\n",
              "221          263274              0.098711           1        0\n",
              "226           42009              0.097799           1        0\n",
              "231          250761              0.097278           1        0\n",
              "235          251477              0.096500           1        0\n",
              "...             ...                   ...         ...      ...\n",
              "124513       192687              0.031334           1        0\n",
              "125808       219025              0.031190           1        0\n",
              "129570       204079              0.030769           1        0\n",
              "152266        72757              0.027513           1        0\n",
              "162805       118308              0.024908           1        0\n",
              "\n",
              "[200 rows x 4 columns]"
            ]
          },
          "metadata": {
            "tags": []
          },
          "execution_count": 80
        }
      ]
    },
    {
      "cell_type": "code",
      "metadata": {
        "colab": {
          "base_uri": "https://localhost:8080/",
          "height": 284
        },
        "id": "5TBnyyLqat4s",
        "outputId": "50a874a5-70af-4d3f-958a-da7af9995917"
      },
      "source": [
        "train_error_df['reconstruction_error'].hist(bins=10)"
      ],
      "execution_count": 17,
      "outputs": [
        {
          "output_type": "execute_result",
          "data": {
            "text/plain": [
              "<matplotlib.axes._subplots.AxesSubplot at 0x7fc3cc5df850>"
            ]
          },
          "metadata": {
            "tags": []
          },
          "execution_count": 17
        },
        {
          "output_type": "display_data",
          "data": {
            "image/png": "[encoded data removed]",
            "text/plain": [
              "<Figure size 432x288 with 1 Axes>"
            ]
          },
          "metadata": {
            "tags": [],
            "needs_background": "light"
          }
        }
      ]
    },
    {
      "cell_type": "code",
      "metadata": {
        "id": "oTrx1U7OTvJE"
      },
      "source": [
        "def plot_auc_curve(y_score, y_true):  \n",
        "  print(f'ROC AUC: {roc_auc_score(y_true, y_score)}')\n",
        "  fpr, tpr, thresholds = roc_curve(y_true, y_score)\n",
        "  plt.plot(fpr,tpr)\n",
        "  plt.xlabel('FPR')\n",
        "  plt.ylabel('TPR')\n",
        "  plt.show()"
      ],
      "execution_count": 18,
      "outputs": []
    },
    {
      "cell_type": "code",
      "metadata": {
        "colab": {
          "base_uri": "https://localhost:8080/",
          "height": 298
        },
        "id": "l-GQzE5aTxFz",
        "outputId": "2b886448-47bd-482a-c8fa-37d95e77c4ca"
      },
      "source": [
        "plot_auc_curve(train_error_df['true_label'], train_error_df['outlier'])"
      ],
      "execution_count": 19,
      "outputs": [
        {
          "output_type": "stream",
          "text": [
            "ROC AUC: 0.8880666022883563\n"
          ],
          "name": "stdout"
        },
        {
          "output_type": "display_data",
          "data": {
            "image/png": "[encoded data removed]",
            "text/plain": [
              "<Figure size 432x288 with 1 Axes>"
            ]
          },
          "metadata": {
            "tags": [],
            "needs_background": "light"
          }
        }
      ]
    },
    {
      "cell_type": "code",
      "metadata": {
        "colab": {
          "base_uri": "https://localhost:8080/",
          "height": 428
        },
        "id": "ENZ3FYYJSMIi",
        "outputId": "176a6af7-b62b-4c13-d88c-027aad9bc04b"
      },
      "source": [
        "cm = confusion_matrix(train_error_df['true_label'], train_error_df['outlier'])\n",
        "group_names = ['True Neg', 'False Pos','False Neg','True Pos']\n",
        "group_counts = [\"{0:0.0f}\".format(value) for value in cm.flatten()]\n",
        "labels = [f\"{v1}\\n{v2}\" for v1, v2 in zip(group_names, group_counts)]\n",
        "labels = np.asarray(labels).reshape(2,2)\n",
        "fig, ax = plt.subplots(figsize=(7,7))\n",
        "sns.set(font_scale=1.5)\n",
        "sns.heatmap(cm, annot=labels, fmt='', cmap='Blues', ax=ax);"
      ],
      "execution_count": 20,
      "outputs": [
        {
          "output_type": "display_data",
          "data": {
            "image/png": "[encoded data removed]",
            "text/plain": [
              "<Figure size 504x504 with 2 Axes>"
            ]
          },
          "metadata": {
            "tags": [],
            "needs_background": "light"
          }
        }
      ]
    },
    {
      "cell_type": "markdown",
      "metadata": {
        "id": "mEfCpMG3SMgK"
      },
      "source": [
        "# Explain predicted outliers features"
      ]
    },
    {
      "cell_type": "code",
      "metadata": {
        "id": "WU_H3kTyjXAa"
      },
      "source": [
        "def get_high_error_features(X_true, X_pred):\n",
        "  features = defaultdict(int)\n",
        "  num_of_features = X_true.shape[1]\n",
        "  for i in range(num_of_features):\n",
        "    features[i] = np.abs(X_true[0][i] - X_pred[0][i])\n",
        "  return sorted(features.items(), key=lambda x: x[1], reverse=True)"
      ],
      "execution_count": 34,
      "outputs": []
    },
    {
      "cell_type": "markdown",
      "metadata": {
        "id": "noqYL5MyiUkN"
      },
      "source": [
        "## TP (index-154371) "
      ]
    },
    {
      "cell_type": "code",
      "metadata": {
        "id": "CycHxNmAi7N0"
      },
      "source": [
        "X_154371_true = np.array(X_train.loc[154371]).reshape(1, 30)\n",
        "X_154371_pred = autoencoder.predict(X_154371_true)"
      ],
      "execution_count": 62,
      "outputs": []
    },
    {
      "cell_type": "code",
      "metadata": {
        "colab": {
          "base_uri": "https://localhost:8080/"
        },
        "id": "wOLegf6wiUAb",
        "outputId": "9e81fbb8-7045-4fa5-c67d-421e3b22b84a"
      },
      "source": [
        "X_154371_true"
      ],
      "execution_count": 63,
      "outputs": [
        {
          "output_type": "execute_result",
          "data": {
            "text/plain": [
              "array([[5.86329228e-01, 5.19542304e-01, 9.69501060e-01, 3.97437120e-01,\n",
              "        7.45111358e-01, 6.53409275e-01, 3.02569480e-01, 3.95800142e-02,\n",
              "        4.76883146e-01, 7.94873386e-02, 2.81380503e-02, 5.10421810e-01,\n",
              "        3.07597912e-01, 2.42622654e-01, 5.18526028e-01, 0.00000000e+00,\n",
              "        2.40801068e-01, 3.57259363e-01, 2.54071693e-01, 4.65351811e-01,\n",
              "        6.64459246e-01, 2.88689931e-01, 7.76107775e-01, 7.17560423e-01,\n",
              "        3.89555122e-01, 5.40186442e-01, 3.91238128e-01, 3.25144843e-01,\n",
              "        3.04024190e-01, 8.87464793e-05]])"
            ]
          },
          "metadata": {
            "tags": []
          },
          "execution_count": 63
        }
      ]
    },
    {
      "cell_type": "code",
      "metadata": {
        "colab": {
          "base_uri": "https://localhost:8080/"
        },
        "id": "GRZ6DtY_SRgp",
        "outputId": "1bf21b0a-5972-4d51-f6d7-c22ea58ed1e5"
      },
      "source": [
        "X_154371_pred"
      ],
      "execution_count": 64,
      "outputs": [
        {
          "output_type": "execute_result",
          "data": {
            "text/plain": [
              "array([[0.5252579 , 0.89505124, 0.7703591 , 0.8252092 , 0.26188695,\n",
              "        0.7614635 , 0.26451874, 0.2723687 , 0.78766304, 0.45104393,\n",
              "        0.5146408 , 0.27810162, 0.6932663 , 0.44422075, 0.6388999 ,\n",
              "        0.33309236, 0.44673398, 0.7211296 , 0.64449334, 0.53788507,\n",
              "        0.5793959 , 0.5534413 , 0.5124751 , 0.66546416, 0.39893842,\n",
              "        0.5858083 , 0.4370407 , 0.4151931 , 0.3060146 , 0.07514784]],\n",
              "      dtype=float32)"
            ]
          },
          "metadata": {
            "tags": []
          },
          "execution_count": 64
        }
      ]
    },
    {
      "cell_type": "code",
      "metadata": {
        "colab": {
          "base_uri": "https://localhost:8080/"
        },
        "id": "z0OwDDCvSSOO",
        "outputId": "2026e031-87d3-4f31-fb1e-bfdce9dd67ae"
      },
      "source": [
        "get_high_error_features(X_154371_true, X_154371_pred)"
      ],
      "execution_count": 65,
      "outputs": [
        {
          "output_type": "execute_result",
          "data": {
            "text/plain": [
              "[(10, 0.4865027577702196),\n",
              " (4, 0.48322440344133777),\n",
              " (3, 0.4277720805562066),\n",
              " (18, 0.39042164806470925),\n",
              " (12, 0.3856683607041463),\n",
              " (1, 0.375508937232058),\n",
              " (9, 0.37155659500386934),\n",
              " (17, 0.3638702330525232),\n",
              " (15, 0.3330923616886139),\n",
              " (8, 0.31077989636614717),\n",
              " (21, 0.2647513552684799),\n",
              " (22, 0.26363270149662343),\n",
              " (7, 0.23278868515358858),\n",
              " (11, 0.23232018722035164),\n",
              " (16, 0.20593291301357544),\n",
              " (13, 0.2015980979651007),\n",
              " (2, 0.199141960928656),\n",
              " (14, 0.12037389475321303),\n",
              " (5, 0.10805424826040644),\n",
              " (27, 0.09004826757734435),\n",
              " (20, 0.08506335618848937),\n",
              " (29, 0.07505909837168324),\n",
              " (19, 0.07253325872610156),\n",
              " (0, 0.06107134274892434),\n",
              " (23, 0.052096260119197324),\n",
              " (26, 0.04580255885078688),\n",
              " (25, 0.04562183546632448),\n",
              " (6, 0.0380507418443875),\n",
              " (24, 0.009383295181831341),\n",
              " (28, 0.001990407043420017)]"
            ]
          },
          "metadata": {
            "tags": []
          },
          "execution_count": 65
        }
      ]
    },
    {
      "cell_type": "code",
      "metadata": {
        "colab": {
          "base_uri": "https://localhost:8080/",
          "height": 36
        },
        "id": "e8TyP9bg-XiH",
        "outputId": "f22b060b-a3ce-4eba-f546-497f27cf717c"
      },
      "source": [
        "credit_fraud_df.columns[10]"
      ],
      "execution_count": 66,
      "outputs": [
        {
          "output_type": "execute_result",
          "data": {
            "application/vnd.google.colaboratory.intrinsic+json": {
              "type": "string"
            },
            "text/plain": [
              "'V10'"
            ]
          },
          "metadata": {
            "tags": []
          },
          "execution_count": 66
        }
      ]
    },
    {
      "cell_type": "markdown",
      "metadata": {
        "id": "6jp7b283iYAG"
      },
      "source": [
        "## FP (index-274771) "
      ]
    },
    {
      "cell_type": "code",
      "metadata": {
        "id": "3VUoIlgp-wHy"
      },
      "source": [
        "X_274771_true = np.array(X_train.loc[274771]).reshape(1, 30)\n",
        "X_274771_pred = autoencoder.predict(X_274771_true)"
      ],
      "execution_count": 67,
      "outputs": []
    },
    {
      "cell_type": "code",
      "metadata": {
        "colab": {
          "base_uri": "https://localhost:8080/"
        },
        "id": "xQg2YmGl-wFU",
        "outputId": "df0ca52e-a211-4b30-cfa0-3891dab3aca9"
      },
      "source": [
        "X_274771_true"
      ],
      "execution_count": 68,
      "outputs": [
        {
          "output_type": "execute_result",
          "data": {
            "text/plain": [
              "array([[0.96183851, 0.35436809, 0.4311887 , 0.        , 0.9303518 ,\n",
              "        0.        , 1.        , 1.        , 0.49203418, 0.32938171,\n",
              "        0.26033294, 0.69285813, 0.3578418 , 1.        , 0.4175497 ,\n",
              "        1.        , 1.        , 0.52268782, 0.51793655, 0.99295426,\n",
              "        0.        , 0.21295464, 0.77650985, 0.64195294, 1.        ,\n",
              "        0.83357237, 0.98338597, 1.        , 0.        , 1.        ]])"
            ]
          },
          "metadata": {
            "tags": []
          },
          "execution_count": 68
        }
      ]
    },
    {
      "cell_type": "code",
      "metadata": {
        "colab": {
          "base_uri": "https://localhost:8080/"
        },
        "id": "4Pcym4Rk-wCd",
        "outputId": "f6b6c329-32e0-493c-9d11-87bf894b334a"
      },
      "source": [
        "X_274771_pred"
      ],
      "execution_count": 69,
      "outputs": [
        {
          "output_type": "execute_result",
          "data": {
            "text/plain": [
              "array([[0.5295007 , 0.88470924, 0.7643347 , 0.8115151 , 0.2714771 ,\n",
              "        0.7500017 , 0.27473706, 0.2785047 , 0.7770372 , 0.46379426,\n",
              "        0.5094443 , 0.29098547, 0.69222957, 0.44377327, 0.6301904 ,\n",
              "        0.3332397 , 0.4568252 , 0.71153456, 0.6433843 , 0.5466691 ,\n",
              "        0.5740016 , 0.561732  , 0.5044287 , 0.65677905, 0.40656182,\n",
              "        0.5743333 , 0.42506903, 0.4251289 , 0.32004532, 0.08322976]],\n",
              "      dtype=float32)"
            ]
          },
          "metadata": {
            "tags": []
          },
          "execution_count": 69
        }
      ]
    },
    {
      "cell_type": "code",
      "metadata": {
        "colab": {
          "base_uri": "https://localhost:8080/"
        },
        "id": "x1t4UbPd-v_5",
        "outputId": "77033ee8-48fb-4796-dcaf-27f1d7778820"
      },
      "source": [
        "get_high_error_features(X_274771_true, X_274771_pred)"
      ],
      "execution_count": 70,
      "outputs": [
        {
          "output_type": "execute_result",
          "data": {
            "text/plain": [
              "[(29, 0.9167702421545982),\n",
              " (3, 0.8115150928497314),\n",
              " (5, 0.7500017285346985),\n",
              " (6, 0.725262939929962),\n",
              " (7, 0.7214953005313873),\n",
              " (15, 0.6667602956295013),\n",
              " (4, 0.658874693759159),\n",
              " (24, 0.5934381783008575),\n",
              " (27, 0.5748710930347443),\n",
              " (20, 0.5740016102790833),\n",
              " (26, 0.558316935639928),\n",
              " (13, 0.5562267303466797),\n",
              " (16, 0.5431748032569885),\n",
              " (1, 0.5303411469963091),\n",
              " (19, 0.4462851346110487),\n",
              " (0, 0.43233778815704604),\n",
              " (11, 0.40187266294312063),\n",
              " (21, 0.34877735118830594),\n",
              " (12, 0.3343877714024176),\n",
              " (2, 0.33314597976721066),\n",
              " (28, 0.3200453221797943),\n",
              " (8, 0.2850030218953563),\n",
              " (22, 0.27208116797297277),\n",
              " (25, 0.25923905622543086),\n",
              " (10, 0.24911135822746544),\n",
              " (14, 0.21264066970935064),\n",
              " (17, 0.1888467438815038),\n",
              " (9, 0.1344125491310897),\n",
              " (18, 0.12544772376945557),\n",
              " (23, 0.014826107421224699)]"
            ]
          },
          "metadata": {
            "tags": []
          },
          "execution_count": 70
        }
      ]
    },
    {
      "cell_type": "code",
      "metadata": {
        "colab": {
          "base_uri": "https://localhost:8080/",
          "height": 36
        },
        "id": "lJ-hqkzPSJfs",
        "outputId": "3e5546eb-25e1-409f-8bc4-c9d7f15bdd3e"
      },
      "source": [
        "credit_fraud_df.columns[29]"
      ],
      "execution_count": 71,
      "outputs": [
        {
          "output_type": "execute_result",
          "data": {
            "application/vnd.google.colaboratory.intrinsic+json": {
              "type": "string"
            },
            "text/plain": [
              "'Amount'"
            ]
          },
          "metadata": {
            "tags": []
          },
          "execution_count": 71
        }
      ]
    },
    {
      "cell_type": "markdown",
      "metadata": {
        "id": "cQjJ5-wAibBd"
      },
      "source": [
        "## TN (index-147323) "
      ]
    },
    {
      "cell_type": "code",
      "metadata": {
        "id": "V82TqX7ZiaRp"
      },
      "source": [
        "X_147323_true = np.array(X_train.loc[147323]).reshape(1, 30)\n",
        "X_147323_pred = autoencoder.predict(X_147323_true)"
      ],
      "execution_count": 73,
      "outputs": []
    },
    {
      "cell_type": "code",
      "metadata": {
        "colab": {
          "base_uri": "https://localhost:8080/"
        },
        "id": "46f-4I1nSn6I",
        "outputId": "a51d8db5-f4b4-4b63-a0aa-53cfe839134f"
      },
      "source": [
        "X_147323_true"
      ],
      "execution_count": 74,
      "outputs": [
        {
          "output_type": "execute_result",
          "data": {
            "text/plain": [
              "array([[0.51155725, 0.94255643, 0.77516299, 0.8336951 , 0.23791796,\n",
              "        0.7671407 , 0.24793466, 0.26907825, 0.7884525 , 0.46699454,\n",
              "        0.47368353, 0.26489858, 0.71837867, 0.44259944, 0.60306803,\n",
              "        0.29616623, 0.44806495, 0.77036932, 0.64978629, 0.53481077,\n",
              "        0.58165565, 0.55948081, 0.49037799, 0.6659177 , 0.41958079,\n",
              "        0.5912385 , 0.41059587, 0.41840719, 0.31201969, 0.00233543]])"
            ]
          },
          "metadata": {
            "tags": []
          },
          "execution_count": 74
        }
      ]
    },
    {
      "cell_type": "code",
      "metadata": {
        "id": "wafjMlH3iaPN",
        "colab": {
          "base_uri": "https://localhost:8080/"
        },
        "outputId": "1e0a7194-23bc-488c-d57a-71947e90aa63"
      },
      "source": [
        "X_147323_pred"
      ],
      "execution_count": 75,
      "outputs": [
        {
          "output_type": "execute_result",
          "data": {
            "text/plain": [
              "array([[0.53091043, 0.899516  , 0.7820378 , 0.8279494 , 0.25692096,\n",
              "        0.7670328 , 0.25797483, 0.26327482, 0.79471487, 0.4557901 ,\n",
              "        0.5064368 , 0.2755472 , 0.7041467 , 0.440012  , 0.6397084 ,\n",
              "        0.32439604, 0.44747758, 0.72383875, 0.65403855, 0.5462729 ,\n",
              "        0.58169734, 0.56322294, 0.5052651 , 0.6726266 , 0.40046498,\n",
              "        0.5808679 , 0.4239749 , 0.41775766, 0.30386975, 0.06929707]],\n",
              "      dtype=float32)"
            ]
          },
          "metadata": {
            "tags": []
          },
          "execution_count": 75
        }
      ]
    },
    {
      "cell_type": "code",
      "metadata": {
        "id": "NrHYdoe2SSJi",
        "colab": {
          "base_uri": "https://localhost:8080/"
        },
        "outputId": "eaf9196a-2fbd-48ec-f11f-4bf72651ffca"
      },
      "source": [
        "get_high_error_features(X_147323_true, X_147323_pred)"
      ],
      "execution_count": 76,
      "outputs": [
        {
          "output_type": "execute_result",
          "data": {
            "text/plain": [
              "[(29, 0.06696163415434828),\n",
              " (17, 0.04653057368198443),\n",
              " (1, 0.04304044469965129),\n",
              " (14, 0.036640370270067835),\n",
              " (10, 0.032753297846659646),\n",
              " (15, 0.02822981421217452),\n",
              " (0, 0.019353184317972838),\n",
              " (24, 0.019115810778800812),\n",
              " (4, 0.01900300839425184),\n",
              " (22, 0.014887121707471973),\n",
              " (12, 0.01423198688046401),\n",
              " (26, 0.013379032286591375),\n",
              " (19, 0.011462101081738174),\n",
              " (9, 0.011204435238910238),\n",
              " (11, 0.010648630557161642),\n",
              " (25, 0.010370614415310286),\n",
              " (6, 0.01004017275094507),\n",
              " (28, 0.00814993356830468),\n",
              " (2, 0.006874807703477592),\n",
              " (23, 0.006708914458704585),\n",
              " (8, 0.006262364410749677),\n",
              " (7, 0.005803434051862566),\n",
              " (3, 0.005745690426643746),\n",
              " (18, 0.004252254846632941),\n",
              " (21, 0.003742134065392144),\n",
              " (13, 0.002587435234468749),\n",
              " (27, 0.0006495280679996163),\n",
              " (16, 0.0005873685813838625),\n",
              " (5, 0.00010789404056998908),\n",
              " (20, 4.169716783997135e-05)]"
            ]
          },
          "metadata": {
            "tags": []
          },
          "execution_count": 76
        }
      ]
    },
    {
      "cell_type": "code",
      "metadata": {
        "colab": {
          "base_uri": "https://localhost:8080/",
          "height": 36
        },
        "id": "w60OY2YQS4CJ",
        "outputId": "efe1065e-9050-4666-c463-51c4ca3d38a3"
      },
      "source": [
        "credit_fraud_df.columns[29]"
      ],
      "execution_count": 77,
      "outputs": [
        {
          "output_type": "execute_result",
          "data": {
            "application/vnd.google.colaboratory.intrinsic+json": {
              "type": "string"
            },
            "text/plain": [
              "'Amount'"
            ]
          },
          "metadata": {
            "tags": []
          },
          "execution_count": 77
        }
      ]
    },
    {
      "cell_type": "markdown",
      "metadata": {
        "id": "PduIqwLdidu0"
      },
      "source": [
        "## FN (index-118308) "
      ]
    },
    {
      "cell_type": "code",
      "metadata": {
        "id": "cgMd_4Fyidjh"
      },
      "source": [
        "X_118308_true = np.array(X_train.loc[118308]).reshape(1, 30)\n",
        "X_118308_pred = autoencoder.predict(X_118308_true)"
      ],
      "execution_count": 85,
      "outputs": []
    },
    {
      "cell_type": "code",
      "metadata": {
        "id": "t2Lc1ZKSidhU",
        "colab": {
          "base_uri": "https://localhost:8080/"
        },
        "outputId": "1c94b175-91e3-4ed3-af01-f371e1c542f3"
      },
      "source": [
        "X_118308_true"
      ],
      "execution_count": 86,
      "outputs": [
        {
          "output_type": "execute_result",
          "data": {
            "text/plain": [
              "array([[3.17410528e-01, 9.07557425e-01, 7.67248964e-01, 8.47912783e-01,\n",
              "        2.66928427e-01, 7.70330716e-01, 2.47114667e-01, 2.68427196e-01,\n",
              "        7.82881802e-01, 4.84715441e-01, 5.29624529e-01, 2.85554295e-01,\n",
              "        7.05865971e-01, 4.80907786e-01, 6.14728993e-01, 4.22146281e-01,\n",
              "        4.64714053e-01, 7.26699556e-01, 6.33644898e-01, 5.68980354e-01,\n",
              "        5.72127694e-01, 5.47371796e-01, 4.86246565e-01, 6.84946425e-01,\n",
              "        4.30078956e-01, 6.03084885e-01, 4.57054523e-01, 4.38929470e-01,\n",
              "        3.12841326e-01, 6.96737711e-05]])"
            ]
          },
          "metadata": {
            "tags": []
          },
          "execution_count": 86
        }
      ]
    },
    {
      "cell_type": "code",
      "metadata": {
        "id": "5lA3eBP2ide7",
        "colab": {
          "base_uri": "https://localhost:8080/"
        },
        "outputId": "bb22c291-c7bf-4c82-991c-fdf51df56fe1"
      },
      "source": [
        "X_118308_pred"
      ],
      "execution_count": 87,
      "outputs": [
        {
          "output_type": "execute_result",
          "data": {
            "text/plain": [
              "array([[0.5301922 , 0.8988292 , 0.78097254, 0.827202  , 0.25762257,\n",
              "        0.7667646 , 0.25879952, 0.2641847 , 0.794159  , 0.45548782,\n",
              "        0.50638086, 0.27665585, 0.7031961 , 0.4408358 , 0.6397528 ,\n",
              "        0.32524112, 0.44793233, 0.7236782 , 0.6537957 , 0.5459011 ,\n",
              "        0.5811544 , 0.5632025 , 0.5058439 , 0.6723047 , 0.40086734,\n",
              "        0.58093065, 0.42480013, 0.417474  , 0.30468702, 0.07003584]],\n",
              "      dtype=float32)"
            ]
          },
          "metadata": {
            "tags": []
          },
          "execution_count": 87
        }
      ]
    },
    {
      "cell_type": "code",
      "metadata": {
        "id": "kqzHsu73SSHb",
        "colab": {
          "base_uri": "https://localhost:8080/"
        },
        "outputId": "9d7df1e1-1f53-4c65-c5a1-4c6e6a4d45ce"
      },
      "source": [
        "get_high_error_features(X_118308_true, X_118308_pred)"
      ],
      "execution_count": 88,
      "outputs": [
        {
          "output_type": "execute_result",
          "data": {
            "text/plain": [
              "[(0, 0.21278166810397364),\n",
              " (15, 0.09690516208008576),\n",
              " (29, 0.06996616381963855),\n",
              " (13, 0.04007198196396383),\n",
              " (26, 0.03225439556051546),\n",
              " (9, 0.029227623215711818),\n",
              " (24, 0.029211613024024752),\n",
              " (14, 0.025023811866039414),\n",
              " (10, 0.023243673234791262),\n",
              " (19, 0.023079234766715917),\n",
              " (25, 0.02215423497154967),\n",
              " (27, 0.021455468038986958),\n",
              " (3, 0.020710760817630125),\n",
              " (18, 0.020150821000384456),\n",
              " (22, 0.01959731321668301),\n",
              " (16, 0.016781720196155425),\n",
              " (21, 0.015830703934959223),\n",
              " (2, 0.013723576609255606),\n",
              " (23, 0.012641735405084842),\n",
              " (6, 0.011684856133213267),\n",
              " (8, 0.011277192952027226),\n",
              " (4, 0.009305856875130636),\n",
              " (20, 0.009026711660617637),\n",
              " (11, 0.008898442175550858),\n",
              " (1, 0.008728203105594967),\n",
              " (28, 0.00815430321525823),\n",
              " (7, 0.004242482643528167),\n",
              " (5, 0.003566135271451887),\n",
              " (17, 0.003021384150941331),\n",
              " (12, 0.002669862938530776)]"
            ]
          },
          "metadata": {
            "tags": []
          },
          "execution_count": 88
        }
      ]
    },
    {
      "cell_type": "code",
      "metadata": {
        "colab": {
          "base_uri": "https://localhost:8080/",
          "height": 36
        },
        "id": "jR942BjyTsfq",
        "outputId": "5d5706d4-02a8-4bf8-fd52-eff540da9848"
      },
      "source": [
        "credit_fraud_df.columns[0]"
      ],
      "execution_count": 89,
      "outputs": [
        {
          "output_type": "execute_result",
          "data": {
            "application/vnd.google.colaboratory.intrinsic+json": {
              "type": "string"
            },
            "text/plain": [
              "'Time'"
            ]
          },
          "metadata": {
            "tags": []
          },
          "execution_count": 89
        }
      ]
    },
    {
      "cell_type": "code",
      "metadata": {
        "id": "CjW9HsHpT3MP"
      },
      "source": [
        ""
      ],
      "execution_count": null,
      "outputs": []
    }
  ]
}